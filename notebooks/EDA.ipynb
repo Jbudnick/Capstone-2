{
 "cells": [
  {
   "cell_type": "code",
   "execution_count": null,
   "metadata": {},
   "outputs": [],
   "source": [
    "import pandas as pd\n",
    "import matplotlib.pyplot as plt\n",
    "import datetime"
   ]
  },
  {
   "cell_type": "markdown",
   "metadata": {},
   "source": [
    "#As many features/ data as possible, limit to specific to state, change every state to specific timescale, day 0 for new york\n",
    "#day for 0 for Arizona, use stacking, different states of US, first data point, death per people, y axis new cases per capita"
   ]
  },
  {
   "cell_type": "code",
   "execution_count": 1,
   "metadata": {},
   "outputs": [
    {
     "name": "stdout",
     "output_type": "stream",
     "text": [
      "/Users/jbud/Desktop/Galvanize/repos/Capstone-2\n"
     ]
    }
   ],
   "source": [
    "cd '/Users/jbud/Desktop/Galvanize/repos/Capstone-2'"
   ]
  },
  {
   "cell_type": "code",
   "execution_count": 39,
   "metadata": {},
   "outputs": [],
   "source": [
    "# %load src/main.py\n",
    "'''\n",
    "Ideas : \n",
    "\n",
    "questions:\n",
    "\n",
    "A little concerned about the data - seem to show negative trend in scatter matrix - should i trim off data with very little/ no new cases?\n",
    "Implement ARIMA?\n",
    "Use data from countries that have covid contained (Have data for south Korea - use that data to help train the data?)\n",
    "\n",
    "Use just CO data or specialize in specific region of US?\n",
    "\n",
    "#Need to replace first data point for each state with 0\n",
    "\n",
    "'''\n",
    "import pandas as pd\n",
    "import datetime\n",
    "import numpy as np\n",
    "\n",
    "from sklearn.model_selection import train_test_split\n",
    "from sklearn.linear_model import LinearRegression\n",
    "from sklearn.linear_model import LogisticRegression\n",
    "from sklearn.linear_model import LinearRegression, Ridge, Lasso\n",
    "from sklearn.ensemble import RandomForestRegressor\n",
    "from sklearn.metrics import mean_squared_error\n",
    "\n",
    "import matplotlib.pyplot as plt\n",
    "import matplotlib\n",
    "from mpl_toolkits.basemap import Basemap\n",
    "matplotlib.rcParams.update({'font.size': 16})\n",
    "plt.style.use('fivethirtyeight')\n",
    "plt.close('all')\n",
    "\n",
    "class reg_model(object):\n",
    "    def __init__(self, X, y, log_trans_y = False):\n",
    "        self.X = X\n",
    "        self.y = y if log_trans_y == False else np.log(y + 1)\n",
    "        self.log_trans_y = log_trans_y\n",
    "        self.X_train, self.X_test, self.y_train, self.y_test = train_test_split(self.X, self.y)\n",
    "        self.error_metric = None\n",
    "\n",
    "    def lin_reg(self):\n",
    "        self.model = LinearRegression()\n",
    "        self.model.fit(self.X_train, self.y_train)\n",
    "        self.error_metric = 'rmse'\n",
    "\n",
    "    def log_reg(self):\n",
    "        self.model = LogisticRegression()\n",
    "        self.model.fit(self.X_train, self.y_train)\n",
    "        self.error_metric = 'rmse'\n",
    "\n",
    "    def ridge_reg(self, alpha= 0.5):\n",
    "        def optimize_alpha(alpha_list):\n",
    "            pass\n",
    "        self.model = Ridge(alpha = alpha)\n",
    "        self.model.fit(self.X_train, self.y_train)\n",
    "        self.error_metric = 'rss'\n",
    "\n",
    "    def rand_forest(self, n_trees = 50):\n",
    "        '''\n",
    "        Upon inspection of the model over time, the number of new cases shows a period of exponential growth, then linear growth where the new cases levels off. Then a random forest model can be applied. A Y-transform should be applied on the data. \n",
    "        '''\n",
    "        if n_trees == 'optimize':\n",
    "            max_trees = 100\n",
    "            n = np.arange(1, max_trees + 1, 1)\n",
    "            error = []\n",
    "            for each in n:\n",
    "                self.model = RandomForestRegressor(n_estimators = each)\n",
    "                self.model.fit(self.X_train, self.y_train)\n",
    "                self.error_metric = 'rmse'\n",
    "                error.append(self.evaluate_model())\n",
    "            #plt.plot(n, error)\n",
    "            n_trees = n[error.index(min(error))]\n",
    "        self.model = RandomForestRegressor(n_estimators = n_trees)\n",
    "        self.model.fit(self.X_train, self.y_train)\n",
    "        self.error_metric = 'rmse'\n",
    "\n",
    "    def evaluate_model(self):\n",
    "        self.y_hat = self.model.predict(self.X_test)\n",
    "        self.predicted_vals_df = pd.DataFrame(self.y_test)\n",
    "        self.predicted_vals_df['days_elapsed'] = self.X_test['days_elapsed']\n",
    "        self.predicted_vals_df['y_hat'] = self.y_hat\n",
    "        self.predicted_vals_df.sort_index(inplace = True)\n",
    "        if self.error_metric == 'rmse':\n",
    "            rmse = np.sqrt(mean_squared_error(self.y_test, self.y_hat))\n",
    "            return rmse\n",
    "        elif self.error_metric == 'rss':\n",
    "            rss = np.mean((self.y_test - self.y_hat)**2)\n",
    "            return rss\n",
    "    \n",
    "    def forecast_vals(self, to_forecast_df):\n",
    "        self.forecasted = self.model.predict(to_forecast_df)\n",
    "        return self.forecasted\n",
    "    \n",
    "    def plot_model(self):\n",
    "        fig, ax = plt.subplots(figsize = (10,6))\n",
    "        if self.log_trans_y == True:\n",
    "            self.y_test = np.e ** self.predicted_vals_df['New_Cases']\n",
    "            self.y_hat = np.e ** self.predicted_vals_df['y_hat']\n",
    "        ax.plot(self.predicted_vals_df.loc[:,0], self.y_test, c = 'blue', label = \"Test Data\")\n",
    "        ax.plot(self.predicted_vals_df.iloc[:,0], self.y_hat, c = 'green', label = 'Predicted Data')\n",
    "        ax.legend()\n",
    "        fig.show()\n",
    "\n",
    "def clean_data(df, datetime_col = None):\n",
    "    clean_df = df.copy()\n",
    "    if datetime_col != None:\n",
    "        clean_df[datetime_col] = pd.to_datetime(clean_df[datetime_col])\n",
    "    return clean_df\n",
    "\n",
    "def replace_initial_values(df, col_change, val_col):\n",
    "    '''\n",
    "    When creating new feature columns using difference of existing columns, this function will replace the initial value in val_col of col_change with a 0.\n",
    "    '''\n",
    "    prev = None\n",
    "    for i, st in zip(df.index, df[col_change]):\n",
    "        if st != prev:\n",
    "            df.loc[i, val_col] = 0\n",
    "        else:\n",
    "            continue\n",
    "        prev = st\n",
    "    return df\n",
    "\n",
    "def load_and_clean_data():\n",
    "    '''\n",
    "    Sets up and generates dataframe for analysis\n",
    "    '''\n",
    "\n",
    "    #Import and clean covid data (Cases in 2020)\n",
    "    covid_raw_df = pd.read_csv('data/covid-19-data/us-states.csv')\n",
    "    covid_df = clean_data(covid_raw_df, datetime_col='date')\n",
    "    covid_df.sort_values(['state', 'date'], inplace = True)\n",
    "    covid_df['New_Cases'] = covid_df['cases'].diff()\n",
    "\n",
    "    covid_df = replace_initial_values(covid_df, 'state', 'New_Cases')\n",
    "    '''\n",
    "    Mobility Data - From Google\n",
    "    #The baseline is the median value, for the corresponding day of the week, during the 5-week period Jan 3–Feb 6, 2020\n",
    "    https://www.google.com/covid19/mobility/index.html?hl=en\n",
    "    '''\n",
    "    \n",
    "    mobility_raw_df = pd.read_csv(\n",
    "        'data/Global_Mobility_Report.csv', low_memory=False)\n",
    "    US_mobility_raw_df = mobility_raw_df[(mobility_raw_df['country_region'] == 'United States') & (\n",
    "        mobility_raw_df['sub_region_1'].isnull() == False) & (mobility_raw_df['sub_region_2'].isnull() == True)]\n",
    "    mobility_df = clean_data(US_mobility_raw_df, datetime_col='date')\n",
    "    mobility_df.reset_index(inplace=True)\n",
    "    mobility_df.drop(['index', 'country_region_code',\n",
    "                      'country_region', 'sub_region_2'], axis=1, inplace=True)\n",
    "    mobility_df.rename(columns=lambda x: x.replace(\n",
    "        '_percent_change_from_baseline', ''), inplace=True)\n",
    "    mobility_df.rename(columns = {'sub_region_1' : 'state'},inplace = True)\n",
    "    num_cols = ['retail_and_recreation', 'grocery_and_pharmacy',\n",
    "                'parks', 'transit_stations', 'workplaces', 'residential']\n",
    "    mobility_df[num_cols] = mobility_df[num_cols].apply(pd.to_numeric)\n",
    "\n",
    "    #Convert to percent of normal\n",
    "    mobility_df[num_cols] = mobility_df[num_cols].apply(lambda x: (x + 100)/100)\n",
    "    states = list(set(mobility_df['state']))\n",
    "    '''\n",
    "    Transp data - From Apple\n",
    "    The CSV file and charts on this site show a relative volume of directions requests per country/region, sub-region or city compared to a baseline volume on January 13th, 2020. We define our day as midnight-to-midnight, Pacific time.\n",
    "    https://www.apple.com/covid19/mobility \n",
    "    '''\n",
    "    transp_raw_df = pd.read_csv('data/applemobilitytrends-2020-05-09.csv')\n",
    "    transp_df = transp_raw_df[(transp_raw_df['geo_type'] == 'sub-region') & (transp_raw_df['region'].isin(states))].copy()\n",
    "    #Driving is only available transportation type data available for statewide data\n",
    "    transp_df.drop(['geo_type', 'alternative_name', 'transportation_type'],\n",
    "                   axis=1, inplace=True)\n",
    "    transp_df.set_index('region', inplace=True)\n",
    "    transp_df = (transp_df.T) / 100  # Convert to percentage of normal\n",
    "    transp_df.reset_index(inplace=True)\n",
    "    transp_df.rename(columns={'index': 'date'}, inplace=True)\n",
    "    transp_df['date'] = pd.to_datetime(transp_df['date'])\n",
    "    transp_df = transp_df.melt(id_vars=[\"date\"])\n",
    "    transp_df.rename(columns={'region': 'state'}, inplace = True)\n",
    "\n",
    "    mobility_df = mobility_df.merge(transp_df, how='inner', on=['date', 'state'])\n",
    "    covid_df = mobility_df.merge(covid_df, how='inner', on=['date', 'state'])\n",
    "    covid_df.rename(columns={'value': 'driving'}, inplace=True)\n",
    "    covid_df.drop(['cases', 'deaths', 'fips'], axis=1, inplace=True)\n",
    "    \n",
    "    #Converts date into days elapsed since outbreak- some functions don't work with datetime objects\n",
    "    #February 15th is earliest data\n",
    "    min_date = datetime.datetime(2020, 2, 15)\n",
    "    covid_df['date'] = covid_df['date'].apply(\n",
    "        lambda x: (x.to_pydatetime() - min_date).days)\n",
    "    dates = covid_df['date']\n",
    "    covid_df.rename(columns={'date': 'days_elapsed'}, inplace=True)\n",
    "    return covid_df\n",
    "\n",
    "def state_plot(state, df):\n",
    "    fig, axes = plt.subplots(8, 1, figsize=(12, 15))\n",
    "    for i, ax in enumerate(axes, 2):\n",
    "        query = df[df['state'] == state]['days_elapsed']\n",
    "        x = query.values\n",
    "        y = covid_df.loc[query.index].iloc[:, i]\n",
    "        ax.plot(x, y)\n",
    "    fig.show()\n",
    "\n",
    "if __name__ == '__main__':\n",
    "    covid_df = load_and_clean_data()\n",
    "    # y = covid_df.pop('New_Cases')\n",
    "    # X = covid_df\n",
    "    # rf_model = reg_model(X, y, log_trans_y = True)\n",
    "    # rf_model.rand_forest(n_trees = 'optimize')\n",
    "    # rf_model.evaluate_model()\n"
   ]
  },
  {
   "cell_type": "code",
   "execution_count": 31,
   "metadata": {},
   "outputs": [],
   "source": [
    "    # y = covid_df.pop('New_Cases')\n",
    "    # X = covid_df\n",
    "    # rf_model = reg_model(X, y, log_trans_y = True)\n",
    "    # rf_model.rand_forest(n_trees = 'optimize')\n",
    "    # rf_model.evaluate_model()"
   ]
  },
  {
   "cell_type": "code",
   "execution_count": 41,
   "metadata": {},
   "outputs": [],
   "source": [
    "y = covid_df[covid_df['state'] == 'New York'].pop('New_Cases')"
   ]
  },
  {
   "cell_type": "code",
   "execution_count": 42,
   "metadata": {},
   "outputs": [],
   "source": [
    "X = covid_df[covid_df['state'] == 'New York'].iloc[:,1: -1]"
   ]
  },
  {
   "cell_type": "code",
   "execution_count": 43,
   "metadata": {},
   "outputs": [],
   "source": [
    "rf_model = reg_model(X, y, log_trans_y = True)"
   ]
  },
  {
   "cell_type": "code",
   "execution_count": 44,
   "metadata": {},
   "outputs": [
    {
     "data": {
      "text/plain": [
       "0.500560670672764"
      ]
     },
     "execution_count": 44,
     "metadata": {},
     "output_type": "execute_result"
    }
   ],
   "source": [
    "rf_model.rand_forest(n_trees = 50)\n",
    "rf_model.evaluate_model()"
   ]
  },
  {
   "cell_type": "code",
   "execution_count": 45,
   "metadata": {},
   "outputs": [
    {
     "data": {
      "text/html": [
       "<div>\n",
       "<style scoped>\n",
       "    .dataframe tbody tr th:only-of-type {\n",
       "        vertical-align: middle;\n",
       "    }\n",
       "\n",
       "    .dataframe tbody tr th {\n",
       "        vertical-align: top;\n",
       "    }\n",
       "\n",
       "    .dataframe thead th {\n",
       "        text-align: right;\n",
       "    }\n",
       "</style>\n",
       "<table border=\"1\" class=\"dataframe\">\n",
       "  <thead>\n",
       "    <tr style=\"text-align: right;\">\n",
       "      <th></th>\n",
       "      <th>state</th>\n",
       "      <th>days_elapsed</th>\n",
       "      <th>retail_and_recreation</th>\n",
       "      <th>grocery_and_pharmacy</th>\n",
       "      <th>parks</th>\n",
       "      <th>transit_stations</th>\n",
       "      <th>workplaces</th>\n",
       "      <th>residential</th>\n",
       "      <th>driving</th>\n",
       "      <th>New_Cases</th>\n",
       "    </tr>\n",
       "  </thead>\n",
       "  <tbody>\n",
       "    <tr>\n",
       "      <td>0</td>\n",
       "      <td>Alabama</td>\n",
       "      <td>27</td>\n",
       "      <td>1.07</td>\n",
       "      <td>1.32</td>\n",
       "      <td>1.26</td>\n",
       "      <td>1.07</td>\n",
       "      <td>0.98</td>\n",
       "      <td>1.00</td>\n",
       "      <td>1.4313</td>\n",
       "      <td>0.0</td>\n",
       "    </tr>\n",
       "    <tr>\n",
       "      <td>1</td>\n",
       "      <td>Alabama</td>\n",
       "      <td>28</td>\n",
       "      <td>1.01</td>\n",
       "      <td>1.28</td>\n",
       "      <td>1.55</td>\n",
       "      <td>1.12</td>\n",
       "      <td>1.04</td>\n",
       "      <td>1.00</td>\n",
       "      <td>1.3987</td>\n",
       "      <td>6.0</td>\n",
       "    </tr>\n",
       "    <tr>\n",
       "      <td>2</td>\n",
       "      <td>Alabama</td>\n",
       "      <td>29</td>\n",
       "      <td>0.93</td>\n",
       "      <td>1.16</td>\n",
       "      <td>1.16</td>\n",
       "      <td>1.06</td>\n",
       "      <td>0.96</td>\n",
       "      <td>1.02</td>\n",
       "      <td>0.9460</td>\n",
       "      <td>11.0</td>\n",
       "    </tr>\n",
       "    <tr>\n",
       "      <td>3</td>\n",
       "      <td>Alabama</td>\n",
       "      <td>30</td>\n",
       "      <td>0.98</td>\n",
       "      <td>1.24</td>\n",
       "      <td>1.22</td>\n",
       "      <td>1.02</td>\n",
       "      <td>0.90</td>\n",
       "      <td>1.04</td>\n",
       "      <td>1.0137</td>\n",
       "      <td>6.0</td>\n",
       "    </tr>\n",
       "    <tr>\n",
       "      <td>4</td>\n",
       "      <td>Alabama</td>\n",
       "      <td>31</td>\n",
       "      <td>0.89</td>\n",
       "      <td>1.17</td>\n",
       "      <td>1.25</td>\n",
       "      <td>0.99</td>\n",
       "      <td>0.83</td>\n",
       "      <td>1.07</td>\n",
       "      <td>0.9406</td>\n",
       "      <td>10.0</td>\n",
       "    </tr>\n",
       "    <tr>\n",
       "      <td>...</td>\n",
       "      <td>...</td>\n",
       "      <td>...</td>\n",
       "      <td>...</td>\n",
       "      <td>...</td>\n",
       "      <td>...</td>\n",
       "      <td>...</td>\n",
       "      <td>...</td>\n",
       "      <td>...</td>\n",
       "      <td>...</td>\n",
       "      <td>...</td>\n",
       "    </tr>\n",
       "    <tr>\n",
       "      <td>3006</td>\n",
       "      <td>Wyoming</td>\n",
       "      <td>73</td>\n",
       "      <td>0.79</td>\n",
       "      <td>1.01</td>\n",
       "      <td>1.23</td>\n",
       "      <td>0.93</td>\n",
       "      <td>0.67</td>\n",
       "      <td>1.05</td>\n",
       "      <td>1.0462</td>\n",
       "      <td>16.0</td>\n",
       "    </tr>\n",
       "    <tr>\n",
       "      <td>3007</td>\n",
       "      <td>Wyoming</td>\n",
       "      <td>74</td>\n",
       "      <td>0.82</td>\n",
       "      <td>1.03</td>\n",
       "      <td>1.76</td>\n",
       "      <td>0.97</td>\n",
       "      <td>0.66</td>\n",
       "      <td>1.11</td>\n",
       "      <td>1.1165</td>\n",
       "      <td>8.0</td>\n",
       "    </tr>\n",
       "    <tr>\n",
       "      <td>3008</td>\n",
       "      <td>Wyoming</td>\n",
       "      <td>75</td>\n",
       "      <td>0.80</td>\n",
       "      <td>1.01</td>\n",
       "      <td>1.51</td>\n",
       "      <td>0.99</td>\n",
       "      <td>0.65</td>\n",
       "      <td>1.12</td>\n",
       "      <td>1.1903</td>\n",
       "      <td>15.0</td>\n",
       "    </tr>\n",
       "    <tr>\n",
       "      <td>3009</td>\n",
       "      <td>Wyoming</td>\n",
       "      <td>76</td>\n",
       "      <td>0.80</td>\n",
       "      <td>1.03</td>\n",
       "      <td>1.50</td>\n",
       "      <td>1.05</td>\n",
       "      <td>0.69</td>\n",
       "      <td>1.12</td>\n",
       "      <td>1.3494</td>\n",
       "      <td>7.0</td>\n",
       "    </tr>\n",
       "    <tr>\n",
       "      <td>3010</td>\n",
       "      <td>Wyoming</td>\n",
       "      <td>77</td>\n",
       "      <td>0.78</td>\n",
       "      <td>1.01</td>\n",
       "      <td>1.46</td>\n",
       "      <td>1.07</td>\n",
       "      <td>0.79</td>\n",
       "      <td>1.07</td>\n",
       "      <td>1.2502</td>\n",
       "      <td>13.0</td>\n",
       "    </tr>\n",
       "  </tbody>\n",
       "</table>\n",
       "<p>3011 rows × 10 columns</p>\n",
       "</div>"
      ],
      "text/plain": [
       "        state  days_elapsed  retail_and_recreation  grocery_and_pharmacy  \\\n",
       "0     Alabama            27                   1.07                  1.32   \n",
       "1     Alabama            28                   1.01                  1.28   \n",
       "2     Alabama            29                   0.93                  1.16   \n",
       "3     Alabama            30                   0.98                  1.24   \n",
       "4     Alabama            31                   0.89                  1.17   \n",
       "...       ...           ...                    ...                   ...   \n",
       "3006  Wyoming            73                   0.79                  1.01   \n",
       "3007  Wyoming            74                   0.82                  1.03   \n",
       "3008  Wyoming            75                   0.80                  1.01   \n",
       "3009  Wyoming            76                   0.80                  1.03   \n",
       "3010  Wyoming            77                   0.78                  1.01   \n",
       "\n",
       "      parks  transit_stations  workplaces  residential  driving  New_Cases  \n",
       "0      1.26              1.07        0.98         1.00   1.4313        0.0  \n",
       "1      1.55              1.12        1.04         1.00   1.3987        6.0  \n",
       "2      1.16              1.06        0.96         1.02   0.9460       11.0  \n",
       "3      1.22              1.02        0.90         1.04   1.0137        6.0  \n",
       "4      1.25              0.99        0.83         1.07   0.9406       10.0  \n",
       "...     ...               ...         ...          ...      ...        ...  \n",
       "3006   1.23              0.93        0.67         1.05   1.0462       16.0  \n",
       "3007   1.76              0.97        0.66         1.11   1.1165        8.0  \n",
       "3008   1.51              0.99        0.65         1.12   1.1903       15.0  \n",
       "3009   1.50              1.05        0.69         1.12   1.3494        7.0  \n",
       "3010   1.46              1.07        0.79         1.07   1.2502       13.0  \n",
       "\n",
       "[3011 rows x 10 columns]"
      ]
     },
     "execution_count": 45,
     "metadata": {},
     "output_type": "execute_result"
    }
   ],
   "source": [
    "covid_df"
   ]
  },
  {
   "cell_type": "code",
   "execution_count": 46,
   "metadata": {},
   "outputs": [
    {
     "data": {
      "text/html": [
       "<div>\n",
       "<style scoped>\n",
       "    .dataframe tbody tr th:only-of-type {\n",
       "        vertical-align: middle;\n",
       "    }\n",
       "\n",
       "    .dataframe tbody tr th {\n",
       "        vertical-align: top;\n",
       "    }\n",
       "\n",
       "    .dataframe thead th {\n",
       "        text-align: right;\n",
       "    }\n",
       "</style>\n",
       "<table border=\"1\" class=\"dataframe\">\n",
       "  <thead>\n",
       "    <tr style=\"text-align: right;\">\n",
       "      <th></th>\n",
       "      <th>New_Cases</th>\n",
       "      <th>days_elapsed</th>\n",
       "      <th>y_hat</th>\n",
       "    </tr>\n",
       "  </thead>\n",
       "  <tbody>\n",
       "    <tr>\n",
       "      <td>1848</td>\n",
       "      <td>0.000000</td>\n",
       "      <td>15</td>\n",
       "      <td>1.163685</td>\n",
       "    </tr>\n",
       "    <tr>\n",
       "      <td>1854</td>\n",
       "      <td>3.828641</td>\n",
       "      <td>21</td>\n",
       "      <td>2.480854</td>\n",
       "    </tr>\n",
       "    <tr>\n",
       "      <td>1866</td>\n",
       "      <td>7.481556</td>\n",
       "      <td>33</td>\n",
       "      <td>7.729786</td>\n",
       "    </tr>\n",
       "    <tr>\n",
       "      <td>1870</td>\n",
       "      <td>8.650325</td>\n",
       "      <td>37</td>\n",
       "      <td>8.825204</td>\n",
       "    </tr>\n",
       "    <tr>\n",
       "      <td>1872</td>\n",
       "      <td>8.911125</td>\n",
       "      <td>39</td>\n",
       "      <td>8.820077</td>\n",
       "    </tr>\n",
       "    <tr>\n",
       "      <td>1873</td>\n",
       "      <td>8.689801</td>\n",
       "      <td>40</td>\n",
       "      <td>8.536032</td>\n",
       "    </tr>\n",
       "    <tr>\n",
       "      <td>1875</td>\n",
       "      <td>9.079320</td>\n",
       "      <td>42</td>\n",
       "      <td>8.915533</td>\n",
       "    </tr>\n",
       "    <tr>\n",
       "      <td>1876</td>\n",
       "      <td>8.743213</td>\n",
       "      <td>43</td>\n",
       "      <td>8.931735</td>\n",
       "    </tr>\n",
       "    <tr>\n",
       "      <td>1881</td>\n",
       "      <td>9.276222</td>\n",
       "      <td>48</td>\n",
       "      <td>9.049997</td>\n",
       "    </tr>\n",
       "    <tr>\n",
       "      <td>1885</td>\n",
       "      <td>9.173988</td>\n",
       "      <td>52</td>\n",
       "      <td>9.095540</td>\n",
       "    </tr>\n",
       "    <tr>\n",
       "      <td>1888</td>\n",
       "      <td>9.286838</td>\n",
       "      <td>55</td>\n",
       "      <td>9.201138</td>\n",
       "    </tr>\n",
       "    <tr>\n",
       "      <td>1890</td>\n",
       "      <td>9.040264</td>\n",
       "      <td>57</td>\n",
       "      <td>8.963524</td>\n",
       "    </tr>\n",
       "    <tr>\n",
       "      <td>1891</td>\n",
       "      <td>8.787068</td>\n",
       "      <td>58</td>\n",
       "      <td>9.073577</td>\n",
       "    </tr>\n",
       "    <tr>\n",
       "      <td>1893</td>\n",
       "      <td>9.372119</td>\n",
       "      <td>60</td>\n",
       "      <td>8.992903</td>\n",
       "    </tr>\n",
       "    <tr>\n",
       "      <td>1898</td>\n",
       "      <td>8.490438</td>\n",
       "      <td>65</td>\n",
       "      <td>8.743455</td>\n",
       "    </tr>\n",
       "    <tr>\n",
       "      <td>1899</td>\n",
       "      <td>8.372167</td>\n",
       "      <td>66</td>\n",
       "      <td>8.911892</td>\n",
       "    </tr>\n",
       "  </tbody>\n",
       "</table>\n",
       "</div>"
      ],
      "text/plain": [
       "      New_Cases  days_elapsed     y_hat\n",
       "1848   0.000000            15  1.163685\n",
       "1854   3.828641            21  2.480854\n",
       "1866   7.481556            33  7.729786\n",
       "1870   8.650325            37  8.825204\n",
       "1872   8.911125            39  8.820077\n",
       "1873   8.689801            40  8.536032\n",
       "1875   9.079320            42  8.915533\n",
       "1876   8.743213            43  8.931735\n",
       "1881   9.276222            48  9.049997\n",
       "1885   9.173988            52  9.095540\n",
       "1888   9.286838            55  9.201138\n",
       "1890   9.040264            57  8.963524\n",
       "1891   8.787068            58  9.073577\n",
       "1893   9.372119            60  8.992903\n",
       "1898   8.490438            65  8.743455\n",
       "1899   8.372167            66  8.911892"
      ]
     },
     "execution_count": 46,
     "metadata": {},
     "output_type": "execute_result"
    }
   ],
   "source": [
    "rf_model.predicted_vals_df"
   ]
  },
  {
   "cell_type": "code",
   "execution_count": 47,
   "metadata": {},
   "outputs": [
    {
     "name": "stderr",
     "output_type": "stream",
     "text": [
      "/Users/jbud/opt/anaconda3/lib/python3.7/site-packages/ipykernel_launcher.py:103: UserWarning: Matplotlib is currently using module://ipykernel.pylab.backend_inline, which is a non-GUI backend, so cannot show the figure.\n"
     ]
    },
    {
     "data": {
      "image/png": "[encoded data removed]",
      "text/plain": [
       "<Figure size 720x432 with 1 Axes>"
      ]
     },
     "metadata": {},
     "output_type": "display_data"
    }
   ],
   "source": [
    "rf_model.plot_model()"
   ]
  },
  {
   "cell_type": "code",
   "execution_count": null,
   "metadata": {},
   "outputs": [],
   "source": [
    "rf_model.X_test.loc[:, 1]"
   ]
  },
  {
   "cell_type": "code",
   "execution_count": null,
   "metadata": {},
   "outputs": [],
   "source": [
    " rf_model.y_test.shape"
   ]
  },
  {
   "cell_type": "code",
   "execution_count": null,
   "metadata": {},
   "outputs": [],
   "source": [
    "for i in range(60, 100):\n",
    "    forecast = [[i, 0.49, 0.90, 1.63, 0.46, 0.62, 1.13, 0.7304]]\n",
    "    print(i, np.e ** rf_model.forecast_vals(forecast)[0])"
   ]
  },
  {
   "cell_type": "code",
   "execution_count": null,
   "metadata": {},
   "outputs": [],
   "source": [
    "fig,ax = plt.subplots(figsize = (20, 20))\n",
    "ax.plot()"
   ]
  },
  {
   "cell_type": "code",
   "execution_count": null,
   "metadata": {},
   "outputs": [],
   "source": []
  },
  {
   "cell_type": "code",
   "execution_count": null,
   "metadata": {},
   "outputs": [],
   "source": [
    "min_date = datetime.datetime(2020,2,15)\n",
    "\n",
    "covid_df['date'] = covid_df['date'].apply(lambda x: (x.to_pydatetime() - min_date).days)"
   ]
  },
  {
   "cell_type": "code",
   "execution_count": null,
   "metadata": {},
   "outputs": [],
   "source": [
    "def state_plot(state, df = covid_df):\n",
    "    fig, axes = plt.subplots(8, 1, figsize = (12,20))\n",
    "    for i, ax in enumerate(axes, 2):\n",
    "        query = df[df['state'] == state]['days_elapsed']\n",
    "        x = query.values\n",
    "        y = covid_df.loc[query.index].iloc[:,i]\n",
    "        ax.plot(x, y)\n",
    "    fig.show()"
   ]
  },
  {
   "cell_type": "code",
   "execution_count": null,
   "metadata": {},
   "outputs": [],
   "source": [
    "state_plot('New York')"
   ]
  },
  {
   "cell_type": "code",
   "execution_count": null,
   "metadata": {},
   "outputs": [],
   "source": [
    "query = covid_df[covid_df['state'] == 'New York']['days_elapsed']"
   ]
  },
  {
   "cell_type": "code",
   "execution_count": null,
   "metadata": {},
   "outputs": [],
   "source": [
    "fig, ax = plt.subplots(figsize = (20, 15))\n",
    "for state in states:\n",
    "    query = covid_df[covid_df['state'] == state]['days_elapsed']\n",
    "    x = query.values\n",
    "    y = covid_df.loc[query.index].loc[:,'New_Cases']\n",
    "    ax.plot(x, y, label = state)\n",
    "# ax.set_xlim(0,30)\n",
    "# ax.set_ylim(0,200)\n",
    "ax.legend()"
   ]
  },
  {
   "cell_type": "code",
   "execution_count": null,
   "metadata": {},
   "outputs": [],
   "source": [
    "covid_df.sort_values('New_Cases', ascending = False). head(50)"
   ]
  },
  {
   "cell_type": "code",
   "execution_count": null,
   "metadata": {},
   "outputs": [],
   "source": [
    "state_plot(covid_df, 'Georgia')"
   ]
  },
  {
   "cell_type": "code",
   "execution_count": null,
   "metadata": {},
   "outputs": [],
   "source": [
    "covid_raw_df[covid_raw_df['state'] == 'Georgia'].head(50)"
   ]
  },
  {
   "cell_type": "code",
   "execution_count": null,
   "metadata": {},
   "outputs": [],
   "source": [
    "covid_df[covid_df['state'] == 'New York']['days_elapsed']"
   ]
  },
  {
   "cell_type": "code",
   "execution_count": null,
   "metadata": {},
   "outputs": [],
   "source": [
    "mobility_df = mobility_df.merge(transp_df, how='inner', on=['date', 'state'])"
   ]
  },
  {
   "cell_type": "code",
   "execution_count": null,
   "metadata": {},
   "outputs": [],
   "source": [
    "covid_df = mobility_df.merge(covid_df, how='inner', on=['date', 'state'])"
   ]
  },
  {
   "cell_type": "code",
   "execution_count": null,
   "metadata": {},
   "outputs": [],
   "source": [
    "covid_df.rename(columns = {'value': 'driving'}, inplace = True)"
   ]
  },
  {
   "cell_type": "code",
   "execution_count": null,
   "metadata": {},
   "outputs": [],
   "source": [
    "covid_df"
   ]
  },
  {
   "cell_type": "code",
   "execution_count": null,
   "metadata": {},
   "outputs": [],
   "source": [
    "covid_df.drop(['cases', 'deaths', 'fips'], axis=1, inplace=True)"
   ]
  },
  {
   "cell_type": "code",
   "execution_count": null,
   "metadata": {},
   "outputs": [],
   "source": [
    "covid_df"
   ]
  },
  {
   "cell_type": "code",
   "execution_count": null,
   "metadata": {
    "scrolled": false
   },
   "outputs": [],
   "source": [
    "#DO NOT ERASE\n",
    "covid_df = load_and_clean_data()\n",
    "fig, axes = plt.subplots(2, 1, figsize = (12, 6))\n",
    "axes[0].plot(covid_df.index, covid_df['cases'])\n",
    "axes[0].set_ylabel('Total Cases')\n",
    "axes[1].plot(covid_df.index, covid_df['New_Cases'])\n",
    "axes[1].set_ylabel('New Cases by day')"
   ]
  },
  {
   "cell_type": "code",
   "execution_count": null,
   "metadata": {},
   "outputs": [],
   "source": [
    "mobility_raw_df = pd.read_csv(\n",
    "    'data/Global_Mobility_Report.csv', low_memory=False)\n",
    "US_mobility_raw_df = mobility_raw_df[(mobility_raw_df['country_region'] == 'United States') & (\n",
    "    mobility_raw_df['sub_region_1'].isnull() == False) & (mobility_raw_df['sub_region_2'].isnull() == True)]\n",
    "mobility_df = clean_data(US_mobility_raw_df, datetime_col='date')\n",
    "mobility_df.reset_index(inplace=True)\n",
    "mobility_df.drop(['index', 'country_region_code',\n",
    "                  'country_region', 'sub_region_2'], axis=1, inplace=True)\n",
    "mobility_df.rename(columns=lambda x: x.replace(\n",
    "    '_percent_change_from_baseline', ''), inplace=True)\n",
    "mobility_df.rename(columns = {'sub_region_1' : 'state'},inplace = True)\n",
    "num_cols = ['retail_and_recreation', 'grocery_and_pharmacy',\n",
    "            'parks', 'transit_stations', 'workplaces', 'residential']\n",
    "mobility_df[num_cols] = mobility_df[num_cols].apply(pd.to_numeric)"
   ]
  },
  {
   "cell_type": "code",
   "execution_count": null,
   "metadata": {
    "scrolled": true
   },
   "outputs": [],
   "source": [
    "mobility_df"
   ]
  },
  {
   "cell_type": "code",
   "execution_count": null,
   "metadata": {},
   "outputs": [],
   "source": [
    "mobility_df[num_cols] = mobility_df[num_cols].apply(lambda x: (x + 100)/100)\n",
    "states = list(set(mobility_df['state']))"
   ]
  },
  {
   "cell_type": "code",
   "execution_count": null,
   "metadata": {},
   "outputs": [],
   "source": [
    "transp_raw_df = pd.read_csv('data/applemobilitytrends-2020-05-09.csv')\n",
    "transp_df = transp_raw_df[(transp_raw_df['geo_type'] == 'sub-region') & (transp_raw_df['region'].isin(states))].copy()"
   ]
  },
  {
   "cell_type": "code",
   "execution_count": null,
   "metadata": {},
   "outputs": [],
   "source": [
    "transp_df"
   ]
  },
  {
   "cell_type": "code",
   "execution_count": null,
   "metadata": {},
   "outputs": [],
   "source": [
    "transp_raw_df = pd.read_csv('data/applemobilitytrends-2020-05-09.csv')\n",
    "transp_df = transp_raw_df[(transp_raw_df['geo_type'] == 'sub-region') & (transp_raw_df['region'].isin(states))].copy()\n",
    "#Driving is only available transportation type data available for statewide data\n",
    "transp_df.drop(['geo_type', 'alternative_name', 'transportation_type'],\n",
    "               axis=1, inplace=True)\n",
    "transp_df.set_index('region', inplace=True)\n",
    "transp_df = (transp_df.T) / 100  # Convert to percentage of normal\n",
    "transp_df.reset_index(inplace=True)\n",
    "transp_df.rename(columns={'index': 'date'}, inplace=True)\n",
    "transp_df['date'] = pd.to_datetime(transp_df['date'])"
   ]
  },
  {
   "cell_type": "code",
   "execution_count": null,
   "metadata": {},
   "outputs": [],
   "source": [
    "np.e ** (rf_model.predicted_vals_df)"
   ]
  },
  {
   "cell_type": "code",
   "execution_count": null,
   "metadata": {},
   "outputs": [],
   "source": [
    "covid_df = load_and_clean_data()\n",
    "fig, ax = plt.subplots(figsize = (20,10))\n",
    "ax.plot(rf_model.predicted_vals_df.index,rf_model.predicted_vals_df['New_Cases'], label = 'Test')\n",
    "ax.plot(rf_model.predicted_vals_df.index, rf_model.predicted_vals_df['y_hat'], label = 'Predicted') #Random forest linear regression on log transform Y\n",
    "ax.legend()"
   ]
  },
  {
   "cell_type": "code",
   "execution_count": null,
   "metadata": {},
   "outputs": [],
   "source": [
    "covid_df"
   ]
  },
  {
   "cell_type": "code",
   "execution_count": null,
   "metadata": {},
   "outputs": [],
   "source": [
    "for i in range(40, 100):\n",
    "    forecast = [[i,0.1, 0.1, 0.1, 0.1, 0.1, 1.8, 1, 0.2811, 0.7129]]\n",
    "    print(i, np.e ** rf_model.forecast_vals(forecast)[0])"
   ]
  },
  {
   "cell_type": "code",
   "execution_count": null,
   "metadata": {},
   "outputs": [],
   "source": [
    "from pandas.plotting import scatter_matrix\n",
    "import seaborn as sns; sns.set(style=\"ticks\", color_codes=True)"
   ]
  },
  {
   "cell_type": "code",
   "execution_count": null,
   "metadata": {},
   "outputs": [],
   "source": [
    "fix, axes = plt.subplots(9, 1, figsize = (15,25))\n",
    "for ax, col in zip(axes, covid_df.columns[1:]):\n",
    "    ax.plot(covid_df[col])\n",
    "    ax.set_ylabel(col)\n",
    "    plt.tight_layout()"
   ]
  },
  {
   "cell_type": "code",
   "execution_count": null,
   "metadata": {},
   "outputs": [],
   "source": [
    "covid_df.info()"
   ]
  },
  {
   "cell_type": "code",
   "execution_count": null,
   "metadata": {},
   "outputs": [],
   "source": [
    "covid_df['New_Cases'] = y"
   ]
  },
  {
   "cell_type": "code",
   "execution_count": null,
   "metadata": {},
   "outputs": [],
   "source": [
    "scatter_matrix(covid_df, figsize = (20, 20))"
   ]
  },
  {
   "cell_type": "code",
   "execution_count": null,
   "metadata": {},
   "outputs": [],
   "source": [
    "unemployment_df = pd.read_csv('LNS14000024.csv', index_col = 0)\n",
    "unemployment_df.head()\n",
    "unemployment_df.index = pd.to_datetime(unemployment_df.index)"
   ]
  },
  {
   "cell_type": "code",
   "execution_count": null,
   "metadata": {},
   "outputs": [],
   "source": [
    "plt.plot(unemployment_df)"
   ]
  },
  {
   "cell_type": "code",
   "execution_count": null,
   "metadata": {},
   "outputs": [],
   "source": [
    "plt.style.use('ggplot')\n",
    "plt.plot(covid_df['New_Cases'])\n",
    "plt.xticks(rotation = 90)\n",
    "plt.title('New Cases of COVID-19')\n",
    "plt.savefig('Covid-19 New')"
   ]
  },
  {
   "cell_type": "code",
   "execution_count": null,
   "metadata": {},
   "outputs": [],
   "source": [
    "cd '/Users/jbud/Desktop/Galvanize/repos/Capstone-2'"
   ]
  },
  {
   "cell_type": "code",
   "execution_count": null,
   "metadata": {},
   "outputs": [],
   "source": [
    "'''\n",
    "If we use number of cases as the target variable:\n",
    "\n",
    "'''\n",
    "\n",
    "\n",
    "import pandas as pd\n",
    "import datetime\n",
    "import numpy as np\n",
    "\n",
    "from sklearn.model_selection import train_test_split\n",
    "from sklearn.linear_model import LinearRegression\n",
    "from sklearn.linear_model import LogisticRegression\n",
    "from sklearn.linear_model import LinearRegression, Ridge, Lasso\n",
    "from sklearn.ensemble import RandomForestRegressor\n",
    "from sklearn.metrics import mean_squared_error\n",
    "\n",
    "import matplotlib.pyplot as plt\n",
    "import matplotlib\n",
    "from mpl_toolkits.basemap import Basemap\n",
    "matplotlib.rcParams.update({'font.size': 16})\n",
    "plt.style.use('fivethirtyeight')\n",
    "plt.close('all')\n",
    "\n",
    "class reg_model(object):\n",
    "    def __init__(self, X, y, log_trans_y = False):\n",
    "        self.X = X\n",
    "        self.y = y if log_trans_y == False else np.log(y + 1)\n",
    "\n",
    "        self.X_train, self.X_test, self.y_train, self.y_test = train_test_split(self.X, self.y)\n",
    "        self.error_metric = None\n",
    "\n",
    "    def lin_reg(self):\n",
    "        self.model = LinearRegression()\n",
    "        self.model.fit(self.X_train, self.y_train)\n",
    "        self.error_metric = 'rmse'\n",
    "\n",
    "    def log_reg(self):\n",
    "        self.model = LogisticRegression()\n",
    "        self.model.fit(self.X_train, self.y_train)\n",
    "        self.error_metric = 'rmse'\n",
    "\n",
    "    def ridge_reg(self, alpha= 0.5):\n",
    "        def optimize_alpha(alpha_list):\n",
    "            pass\n",
    "        self.model = Ridge(alpha = alpha)\n",
    "        self.model.fit(self.X_train, self.y_train)\n",
    "        self.error_metric = 'rss'\n",
    "\n",
    "    def rand_forest(self, n_trees = 50):\n",
    "        '''\n",
    "        Upon inspection of the model over time, the number of new cases shows a period of exponential growth, then linear growth where the new cases levels off. Then a random forest model can be applied. A Y-transform is applied on the data. \n",
    "        '''\n",
    "        if n_trees == 'optimize':\n",
    "            max_trees = 100\n",
    "            n = np.arange(1, max_trees + 1, 1)\n",
    "            error = []\n",
    "            for each in n:\n",
    "                self.model = RandomForestRegressor(n_estimators = each)\n",
    "                self.model.fit(self.X_train, self.y_train)\n",
    "                self.error_metric = 'rmse'\n",
    "                error.append(self.evaluate_model())\n",
    "            #plt.plot(n, error)\n",
    "            n_trees = n[error.index(min(error))]\n",
    "        self.model = RandomForestRegressor(n_estimators = n_trees)\n",
    "        self.model.fit(self.X_train, self.y_train)\n",
    "        self.error_metric = 'rmse'\n",
    "\n",
    "    def evaluate_model(self):\n",
    "        self.y_hat = self.model.predict(self.X_test)\n",
    "        self.predicted_vals_df = pd.DataFrame(self.y_test)\n",
    "        self.predicted_vals_df['y_hat'] = self.y_hat\n",
    "        self.predicted_vals_df.sort_index(inplace = True)\n",
    "        if self.error_metric == 'rmse':\n",
    "            rmse = np.sqrt(mean_squared_error(self.y_test, self.y_hat))\n",
    "            return rmse\n",
    "        elif self.error_metric == 'rss':\n",
    "            rss = np.mean((self.y_test - self.y_hat)**2)\n",
    "            return rss\n",
    "    \n",
    "    def forecast_vals(self, to_forecast_df):\n",
    "        self.forecasted = self.model.predict(to_forecast_df)\n",
    "        return self.forecasted\n",
    "    \n",
    "    def plot_model(self):\n",
    "        fig, ax = plt.subplots(figsize = (10,6))\n",
    "        if self.X_test.iloc[:, 0].shape != self.y_test.shape:\n",
    "            self.X_test = self.X_test.loc[:,0]\n",
    "        ax.scatter(self.X_test, self.y_test, c = 'blue', label = \"Test Data\")\n",
    "        ax.scatter(self.X_test, self.y_hat, c = 'green', label = 'Predicted Data')\n",
    "        ax.legend()\n",
    "        fig.show()\n",
    "\n",
    "def clean_data(df, datetime_col = None):\n",
    "    clean_df = df.copy()\n",
    "    if datetime_col != None:\n",
    "        clean_df[datetime_col] = pd.to_datetime(clean_df[datetime_col])\n",
    "    return clean_df\n",
    "\n",
    "def calc_row_diff(df, colname = 'cases', added_colname = 'New_Cases'):\n",
    "    '''\n",
    "    Input: Pandas DataFrame, String of column names\n",
    "    Output: Dataframe with added column calculating the difference in each row of colname\n",
    "    '''\n",
    "    prev = df.iloc[0][colname]\n",
    "    new = [prev]\n",
    "    for each in df[colname][1:]:\n",
    "        new.append(each - prev)\n",
    "        prev = each\n",
    "    df[added_colname] = new\n",
    "    return df\n",
    "\n",
    "def load_and_clean_data():\n",
    "    '''\n",
    "    Sets up and generates dataframe for analysis\n",
    "    '''\n",
    "\n",
    "    #Import and clean covid data (Cases in 2020)\n",
    "    covid_raw_df = pd.read_csv('data/covid-19-data/us.csv')\n",
    "    covid_df = clean_data(covid_raw_df, datetime_col='date')\n",
    "    covid_df = calc_row_diff(covid_df)\n",
    "\n",
    "    # To get daily death and ratio:\n",
    "    # covid_df = calc_row_diff(covid_df, colname='deaths',\n",
    "    #                          added_colname='daily_death')\n",
    "    # covid_df['death/case_ratio'] = covid_df['daily_death'] / \\\n",
    "    #     covid_df['New_Cases']\n",
    "    # covid_df['death/case_ratio'] = covid_df['death/case_ratio'].fillna(0)\n",
    "\n",
    "    #Begin loading features that may have something to do with the fluctuation of the virus\n",
    "\n",
    "    '''\n",
    "    Mobility Data - From Google\n",
    "    #The baseline is the median value, for the corresponding day of the week, during the 5-week period Jan 3–Feb 6, 2020\n",
    "    '''\n",
    "\n",
    "    mobility_raw_df = pd.read_csv(\n",
    "        'data/Global_Mobility_Report.csv', low_memory=False)\n",
    "    mobility_raw_df.fillna('None', inplace=True)\n",
    "    US_mobility_raw_df = mobility_raw_df[(mobility_raw_df['country_region'] == 'United States') & (\n",
    "        mobility_raw_df['sub_region_1'] == 'None')]\n",
    "    mobility_df = clean_data(US_mobility_raw_df, datetime_col='date')\n",
    "    mobility_df.reset_index(inplace=True)\n",
    "    mobility_df.drop(['index', 'country_region_code',\n",
    "                      'country_region', 'sub_region_1', 'sub_region_2'], axis=1, inplace=True)\n",
    "    mobility_df.rename(columns=lambda x: x.replace(\n",
    "        '_percent_change_from_baseline', ''), inplace=True)\n",
    "    num_cols = ['retail_and_recreation', 'grocery_and_pharmacy',\n",
    "                'parks', 'transit_stations', 'workplaces', 'residential']\n",
    "    mobility_df[num_cols] = mobility_df[num_cols].apply(pd.to_numeric)\n",
    "\n",
    "    #Convert to percent of normal\n",
    "    mobility_df.iloc[:, 1:] = mobility_df.iloc[:,\n",
    "                                               1:].apply(lambda x: (x + 100)/100)\n",
    "\n",
    "    '''\n",
    "    Transp data - From Apple\n",
    "    The CSV file and charts on this site show a relative volume of directions requests per country/region, sub-region or city compared to a baseline volume on January 13th, 2020. We define our day as midnight-to-midnight, Pacific time.\n",
    "    '''\n",
    "    transp_raw_df = pd.read_csv('data/applemobilitytrends-2020-05-09.csv')\n",
    "    transp_df = transp_raw_df[(\n",
    "        transp_raw_df['region'] == 'United States')].copy()\n",
    "    transp_df.drop(['geo_type', 'region', 'alternative_name'],\n",
    "                   axis=1, inplace=True)\n",
    "    transp_df.set_index('transportation_type', inplace=True)\n",
    "    transp_df = (transp_df.T) / 100  # Convert to percentage of normal\n",
    "    transp_df.columns = ['driving', 'transit', 'walking']\n",
    "    transp_df.reset_index(inplace=True)\n",
    "    transp_df.rename(columns={'index': 'date'}, inplace=True)\n",
    "    transp_df['date'] = pd.to_datetime(transp_df['date'])\n",
    "\n",
    "    mobility_df = mobility_df.merge(transp_df, how='inner', on='date')\n",
    "    covid_df = mobility_df.merge(covid_df, how='inner', on='date')\n",
    "    covid_df.drop(['deaths', 'New_Cases'], axis=1, inplace=True)\n",
    "    \n",
    "    #Converts date into days elapsed since outbreak- some functions don't work with datetime objects\n",
    "    #Days elapsed is since February 15th\n",
    "    dates = covid_df['date']\n",
    "    covid_df['date'] = covid_df.index\n",
    "    covid_df.rename(columns={'date': 'days_elapsed'}, inplace=True)\n",
    "    return covid_df\n",
    "\n",
    "if __name__ == '__main__':\n",
    "    covid_df = load_and_clean_data()\n",
    "    y = covid_df.pop('cases')\n",
    "    X = covid_df\n",
    "    # ridge_model = reg_model(X, y)\n",
    "    # ridge_model.ridge_reg()\n",
    "    # ridge_model.evaluate_model()\n",
    "    rf_model = reg_model(X, y, log_trans_y = True)\n",
    "    rf_model.rand_forest(n_trees = 'optimize')\n",
    "    rf_model.evaluate_model()\n",
    "\n",
    "\n",
    "    # log_reg_model = reg_model(np.array(covid_df.index).reshape(-1, 1),\n",
    "    #                 covid_df['New_Cases'])\n",
    "    # log_reg_model.log_reg()\n",
    "    # print(log_reg_model.evaluate_model())\n",
    "    # log_reg_model.plot_model()\n"
   ]
  },
  {
   "cell_type": "code",
   "execution_count": null,
   "metadata": {},
   "outputs": [],
   "source": [
    "covid_df['target'] = y"
   ]
  },
  {
   "cell_type": "code",
   "execution_count": null,
   "metadata": {},
   "outputs": [],
   "source": [
    "covid_df"
   ]
  },
  {
   "cell_type": "code",
   "execution_count": null,
   "metadata": {},
   "outputs": [],
   "source": [
    "for i in range(78, 100):\n",
    "    forecast = [[i, 1, 1, 1, 1, 1, 1, 0.8434, 0.2811, 0.7129]]\n",
    "    print(i, np.e ** rf_model.forecast_vals(forecast)[0])"
   ]
  },
  {
   "cell_type": "code",
   "execution_count": null,
   "metadata": {},
   "outputs": [],
   "source": [
    "#Full Dataset\n",
    "covid_df = load_and_clean_data()\n",
    "fig, ax = plt.subplots(figsize = (20,10))\n",
    "ax.plot(rf_model.predicted_vals_df.index,rf_model.predicted_vals_df['cases'], label = 'Test')\n",
    "ax.plot(rf_model.predicted_vals_df.index, rf_model.predicted_vals_df['y_hat'], label = 'Predicted') #Random forest linear regression on log transform Y\n",
    "ax.legend()"
   ]
  },
  {
   "cell_type": "code",
   "execution_count": null,
   "metadata": {},
   "outputs": [],
   "source": [
    "plt.plot(np.log(covid_raw_df['cases']))"
   ]
  },
  {
   "cell_type": "code",
   "execution_count": null,
   "metadata": {},
   "outputs": [],
   "source": [
    "def clean_data(df, datetime_col = None):\n",
    "    clean_df = df.copy()\n",
    "    if datetime_col != None:\n",
    "        clean_df[datetime_col] = pd.to_datetime(clean_df[datetime_col])\n",
    "    return clean_df"
   ]
  },
  {
   "cell_type": "code",
   "execution_count": null,
   "metadata": {},
   "outputs": [],
   "source": [
    "covid_raw_df = pd.read_csv('data/covid-19-data/us-states.csv')\n",
    "covid_df = clean_data(covid_raw_df, datetime_col='date')\n",
    "covid_df.sort_values(['state', 'date'], inplace = True)\n",
    "covid_df['New_Cases'] = covid_df['cases'].diff()"
   ]
  },
  {
   "cell_type": "code",
   "execution_count": null,
   "metadata": {},
   "outputs": [],
   "source": [
    "covid_df"
   ]
  },
  {
   "cell_type": "code",
   "execution_count": null,
   "metadata": {},
   "outputs": [],
   "source": [
    "def replace_initial_values(df, col_change, val_col):\n",
    "    prev = None\n",
    "    for i, st in zip(df.index, df[col_change]):\n",
    "        if st != prev:\n",
    "            df.loc[i, val_col] = 0\n",
    "        else:\n",
    "            continue\n",
    "        prev = st\n",
    "    return df\n",
    "covid_df = replace_initial_values(covid_df, 'state', 'New_Cases')"
   ]
  },
  {
   "cell_type": "code",
   "execution_count": null,
   "metadata": {},
   "outputs": [],
   "source": [
    "covid_df"
   ]
  },
  {
   "cell_type": "code",
   "execution_count": null,
   "metadata": {},
   "outputs": [],
   "source": [
    "prev = None\n",
    "for i, st in zip(covid_df.index, covid_df['state']):\n",
    "    print(i, st, prev)\n",
    "    if st != prev:\n",
    "        covid_df.loc[i, 'New_Cases'] = 0\n",
    "    else:\n",
    "        continue\n",
    "    prev = st"
   ]
  },
  {
   "cell_type": "code",
   "execution_count": null,
   "metadata": {},
   "outputs": [],
   "source": [
    "covid_df"
   ]
  },
  {
   "cell_type": "code",
   "execution_count": null,
   "metadata": {},
   "outputs": [],
   "source": [
    "covid_df[covid_df['state'] == 'New York']"
   ]
  },
  {
   "cell_type": "code",
   "execution_count": null,
   "metadata": {},
   "outputs": [],
   "source": []
  }
 ],
 "metadata": {
  "kernelspec": {
   "display_name": "Python 3",
   "language": "python",
   "name": "python3"
  },
  "language_info": {
   "codemirror_mode": {
    "name": "ipython",
    "version": 3
   },
   "file_extension": ".py",
   "mimetype": "text/x-python",
   "name": "python",
   "nbconvert_exporter": "python",
   "pygments_lexer": "ipython3",
   "version": "3.7.0"
  }
 },
 "nbformat": 4,
 "nbformat_minor": 2
}
